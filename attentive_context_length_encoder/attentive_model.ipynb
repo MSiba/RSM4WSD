{
 "cells": [
  {
   "cell_type": "code",
   "execution_count": 1,
   "metadata": {
    "collapsed": true
   },
   "outputs": [],
   "source": [
    "# !pip install transformers"
   ]
  },
  {
   "cell_type": "code",
   "execution_count": 2,
   "metadata": {
    "pycharm": {
     "name": "#%%\n"
    }
   },
   "outputs": [],
   "source": [
    "import torch\n",
    "import torch.nn as nn\n",
    "import torch.nn.functional as F\n",
    "import torch.optim as optim\n",
    "from torch import nn, Tensor\n",
    "from torch.nn import TransformerEncoder, TransformerEncoderLayer\n",
    "\n",
    "\n",
    "import torchtext\n",
    "from torchtext.legacy import data\n",
    "from torchtext.legacy import datasets\n",
    "\n",
    "from collections import defaultdict, Counter\n",
    "\n",
    "from transformers import BertTokenizer, BertModel\n",
    "\n",
    "import math\n",
    "from typing import Tuple\n",
    "import numpy as np\n",
    "\n",
    "import time\n",
    "import random\n",
    "import functools\n",
    "\n",
    "import matplotlib.pyplot as plt\n",
    "\n",
    "%config InlineBackend.figure_format = 'retina' \n",
    "plt.style.use('seaborn')"
   ]
  },
  {
   "cell_type": "code",
   "execution_count": 3,
   "metadata": {
    "pycharm": {
     "name": "#%%\n"
    }
   },
   "outputs": [],
   "source": [
    "# To ensure that the code is reproducible, set random seeds\n",
    "SEED = 1234\n",
    "\n",
    "random.seed(SEED)\n",
    "np.random.seed(SEED)\n",
    "torch.manual_seed(SEED)\n",
    "torch.backends.cudnn.deterministic = True"
   ]
  },
  {
   "cell_type": "code",
   "execution_count": 4,
   "metadata": {
    "pycharm": {
     "name": "#%%\n"
    }
   },
   "outputs": [
    {
     "data": {
      "text/plain": "        token      stemm  pos     annotation          synset  \\\n0      having       have    v  no-annotation       no-synset   \n1         the        the  NaN  no-annotation       no-synset   \n2   necessary  necessary    a     01580050-a  necessary.a.01   \n3       means      means    n     00172710-n      means.n.01   \n4          or         or  NaN  no-annotation       no-synset   \n5       skill      skill    n  no-annotation       no-synset   \n6          or         or  NaN  no-annotation       no-synset   \n7    know-how   know-how    n     05616786-n   know-how.n.01   \n8          or         or  NaN  no-annotation       no-synset   \n9   authority  authority    n     05196582-n  authority.n.01   \n10         to         to  NaN  no-annotation       no-synset   \n11         do         do    v  no-annotation       no-synset   \n12  something  something  NaN  no-annotation       no-synset   \n13        not        not    r     00024073-r        not.r.01   \n14     having       have    v  no-annotation       no-synset   \n15        the        the  NaN  no-annotation       no-synset   \n16  necessary  necessary    a     01580050-a  necessary.a.01   \n17      means      means    n     00172710-n      means.n.01   \n18         or         or  NaN  no-annotation       no-synset   \n19      skill      skill    n  no-annotation       no-synset   \n\n                                     tag  \n0                                      O  \n1                                      O  \n2     [135144.0 25.01 64176.03 90.0 0.5]  \n3      [111736.0 98.31 98012.7 0.0 18.5]  \n4                                      O  \n5                                      O  \n6                                      O  \n7   [142676.0 107.17 71890.08 0.0 106.5]  \n8                                      O  \n9     [37587.0 104.34 194973.98 0.0 7.5]  \n10                                     O  \n11                                     O  \n12                                     O  \n13    [129433.0 178.71 20604.94 0.0 0.5]  \n14                                     O  \n15                                     O  \n16    [135144.0 25.01 64176.03 90.0 0.5]  \n17     [111736.0 98.31 98012.7 0.0 18.5]  \n18                                     O  \n19                                     O  ",
      "text/html": "<div>\n<style scoped>\n    .dataframe tbody tr th:only-of-type {\n        vertical-align: middle;\n    }\n\n    .dataframe tbody tr th {\n        vertical-align: top;\n    }\n\n    .dataframe thead th {\n        text-align: right;\n    }\n</style>\n<table border=\"1\" class=\"dataframe\">\n  <thead>\n    <tr style=\"text-align: right;\">\n      <th></th>\n      <th>token</th>\n      <th>stemm</th>\n      <th>pos</th>\n      <th>annotation</th>\n      <th>synset</th>\n      <th>tag</th>\n    </tr>\n  </thead>\n  <tbody>\n    <tr>\n      <th>0</th>\n      <td>having</td>\n      <td>have</td>\n      <td>v</td>\n      <td>no-annotation</td>\n      <td>no-synset</td>\n      <td>O</td>\n    </tr>\n    <tr>\n      <th>1</th>\n      <td>the</td>\n      <td>the</td>\n      <td>NaN</td>\n      <td>no-annotation</td>\n      <td>no-synset</td>\n      <td>O</td>\n    </tr>\n    <tr>\n      <th>2</th>\n      <td>necessary</td>\n      <td>necessary</td>\n      <td>a</td>\n      <td>01580050-a</td>\n      <td>necessary.a.01</td>\n      <td>[135144.0 25.01 64176.03 90.0 0.5]</td>\n    </tr>\n    <tr>\n      <th>3</th>\n      <td>means</td>\n      <td>means</td>\n      <td>n</td>\n      <td>00172710-n</td>\n      <td>means.n.01</td>\n      <td>[111736.0 98.31 98012.7 0.0 18.5]</td>\n    </tr>\n    <tr>\n      <th>4</th>\n      <td>or</td>\n      <td>or</td>\n      <td>NaN</td>\n      <td>no-annotation</td>\n      <td>no-synset</td>\n      <td>O</td>\n    </tr>\n    <tr>\n      <th>5</th>\n      <td>skill</td>\n      <td>skill</td>\n      <td>n</td>\n      <td>no-annotation</td>\n      <td>no-synset</td>\n      <td>O</td>\n    </tr>\n    <tr>\n      <th>6</th>\n      <td>or</td>\n      <td>or</td>\n      <td>NaN</td>\n      <td>no-annotation</td>\n      <td>no-synset</td>\n      <td>O</td>\n    </tr>\n    <tr>\n      <th>7</th>\n      <td>know-how</td>\n      <td>know-how</td>\n      <td>n</td>\n      <td>05616786-n</td>\n      <td>know-how.n.01</td>\n      <td>[142676.0 107.17 71890.08 0.0 106.5]</td>\n    </tr>\n    <tr>\n      <th>8</th>\n      <td>or</td>\n      <td>or</td>\n      <td>NaN</td>\n      <td>no-annotation</td>\n      <td>no-synset</td>\n      <td>O</td>\n    </tr>\n    <tr>\n      <th>9</th>\n      <td>authority</td>\n      <td>authority</td>\n      <td>n</td>\n      <td>05196582-n</td>\n      <td>authority.n.01</td>\n      <td>[37587.0 104.34 194973.98 0.0 7.5]</td>\n    </tr>\n    <tr>\n      <th>10</th>\n      <td>to</td>\n      <td>to</td>\n      <td>NaN</td>\n      <td>no-annotation</td>\n      <td>no-synset</td>\n      <td>O</td>\n    </tr>\n    <tr>\n      <th>11</th>\n      <td>do</td>\n      <td>do</td>\n      <td>v</td>\n      <td>no-annotation</td>\n      <td>no-synset</td>\n      <td>O</td>\n    </tr>\n    <tr>\n      <th>12</th>\n      <td>something</td>\n      <td>something</td>\n      <td>NaN</td>\n      <td>no-annotation</td>\n      <td>no-synset</td>\n      <td>O</td>\n    </tr>\n    <tr>\n      <th>13</th>\n      <td>not</td>\n      <td>not</td>\n      <td>r</td>\n      <td>00024073-r</td>\n      <td>not.r.01</td>\n      <td>[129433.0 178.71 20604.94 0.0 0.5]</td>\n    </tr>\n    <tr>\n      <th>14</th>\n      <td>having</td>\n      <td>have</td>\n      <td>v</td>\n      <td>no-annotation</td>\n      <td>no-synset</td>\n      <td>O</td>\n    </tr>\n    <tr>\n      <th>15</th>\n      <td>the</td>\n      <td>the</td>\n      <td>NaN</td>\n      <td>no-annotation</td>\n      <td>no-synset</td>\n      <td>O</td>\n    </tr>\n    <tr>\n      <th>16</th>\n      <td>necessary</td>\n      <td>necessary</td>\n      <td>a</td>\n      <td>01580050-a</td>\n      <td>necessary.a.01</td>\n      <td>[135144.0 25.01 64176.03 90.0 0.5]</td>\n    </tr>\n    <tr>\n      <th>17</th>\n      <td>means</td>\n      <td>means</td>\n      <td>n</td>\n      <td>00172710-n</td>\n      <td>means.n.01</td>\n      <td>[111736.0 98.31 98012.7 0.0 18.5]</td>\n    </tr>\n    <tr>\n      <th>18</th>\n      <td>or</td>\n      <td>or</td>\n      <td>NaN</td>\n      <td>no-annotation</td>\n      <td>no-synset</td>\n      <td>O</td>\n    </tr>\n    <tr>\n      <th>19</th>\n      <td>skill</td>\n      <td>skill</td>\n      <td>n</td>\n      <td>no-annotation</td>\n      <td>no-synset</td>\n      <td>O</td>\n    </tr>\n  </tbody>\n</table>\n</div>"
     },
     "execution_count": 4,
     "metadata": {},
     "output_type": "execute_result"
    }
   ],
   "source": [
    "import pandas as pd\n",
    "pwngc_path = \"../data/test_transformer/pwngc4torchtext.csv\"\n",
    "pwngc_df = pd.read_csv(pwngc_path, delimiter=\"\\t\", header=None)\n",
    "pwngc_df.columns = [\"token\", \"stemm\", \"pos\", \"annotation\", \"synset\", \"tag\" ]\n",
    "pwngc_df.head(20)"
   ]
  },
  {
   "cell_type": "code",
   "execution_count": 5,
   "outputs": [
    {
     "data": {
      "text/plain": "532821"
     },
     "execution_count": 5,
     "metadata": {},
     "output_type": "execute_result"
    }
   ],
   "source": [
    "import numpy as np\n",
    "len(np.where(pwngc_df[\"tag\"] != 'O')[0])\n",
    "# 532.821 annotated tokens"
   ],
   "metadata": {
    "collapsed": false,
    "pycharm": {
     "name": "#%%\n"
    }
   }
  },
  {
   "cell_type": "code",
   "execution_count": 6,
   "metadata": {},
   "outputs": [],
   "source": [
    "# split the dataset into training, validation and testing\n",
    "train = \"../data/test_transformer/train.csv\"\n",
    "validate = \"../../data/test_transformer/validate.csv\"\n",
    "test = \"../../data/test_transformer/test.csv\""
   ]
  },
  {
   "cell_type": "code",
   "execution_count": 7,
   "outputs": [],
   "source": [
    "# # Even though the following code is created initially to deal with Universal Dependencies English Treebank (UDPD),\n",
    "# # I will try to run it on my sequence tagging task.\n",
    "# # Goal: create training/validation/testing data with torchtext\n",
    "# # source: https://github.com/arthurdjn/udpos\n",
    "# class PWNGC(datasets.sequence_tagging.SequenceTaggingDataset):\n",
    "#     # urls = ['https://github.com/arthurdjn/udpos/raw/master/data/fr-gsd-ud-15032020.zip'] # change to the dataset of your choice\n",
    "#     dirname = 'pwngc-wsd'  # don't forget to change me too !\n",
    "#     name = 'udpos'         # not obligatory to change here\n",
    "#\n",
    "#     @classmethod\n",
    "#     def splits(cls, fields, root=\".data\",\n",
    "#                train=\"pwngc-wsd-dev.csv\",\n",
    "#                validation=\"pwngc-wsd-dev.csv\",\n",
    "#                test=\"pwngc-wsd-dev.csv\", **kwargs):\n",
    "#         \"\"\"Downloads and loads the Universal Dependencies Version 2 POS Tagged\n",
    "#         data.\n",
    "#         \"\"\"\n",
    "#\n",
    "#         return super(PWNGC, cls).splits(\n",
    "#             fields=fields, root=root, train=train, validation=validation,\n",
    "#             test=test, **kwargs)"
   ],
   "metadata": {
    "collapsed": false,
    "pycharm": {
     "name": "#%%\n"
    }
   }
  },
  {
   "cell_type": "code",
   "execution_count": 8,
   "metadata": {},
   "outputs": [],
   "source": [
    "# from torchtext import data\n",
    "# import PWNGC\n",
    "#\n",
    "# TEXT = data.Field(lower = True)\n",
    "# LEMMATIZED = data.Field(unk_token = None)\n",
    "# UD_TAGS = data.Field(unk_token = None)\n",
    "# fields = ((\"text\", TEXT), (\"lemmatized\", LEMMATIZED), (\"udtags\", UD_TAGS))\n",
    "#\n",
    "# # Load the UD french dataset\n",
    "# train_data, eval_data, test_data = PWNGC.splits(fields)\n"
   ]
  },
  {
   "cell_type": "code",
   "execution_count": 14,
   "metadata": {
    "pycharm": {
     "name": "#%%\n"
    }
   },
   "outputs": [],
   "source": [
    "def read_data(corpus_file, datafields):\n",
    "    \"\"\"\n",
    "    reads the stem word and the spatial tag of each token in the .csv file\n",
    "    :param corpus_file:\n",
    "    :param datafields:\n",
    "    :return:\n",
    "    \"\"\"\n",
    "    with open(corpus_file, encoding='utf-8') as f:\n",
    "        examples = []\n",
    "        words = []\n",
    "        labels = []\n",
    "        for line in f:\n",
    "            line = line.strip()\n",
    "            if not line:\n",
    "                examples.append(data.Example.fromlist([words, labels], datafields))\n",
    "                words = []\n",
    "                labels = []\n",
    "            else:\n",
    "                columns = line.split()\n",
    "                words.append(columns[1])\n",
    "                labels.append(columns[-1])\n",
    "        return data.Dataset(examples, datafields)"
   ]
  },
  {
   "cell_type": "code",
   "execution_count": 10,
   "metadata": {
    "pycharm": {
     "name": "#%%\n"
    }
   },
   "outputs": [
    {
     "name": "stdout",
     "output_type": "stream",
     "text": [
      "0.11.1\n"
     ]
    }
   ],
   "source": [
    "print(torchtext.__version__)"
   ]
  },
  {
   "cell_type": "code",
   "execution_count": null,
   "metadata": {
    "pycharm": {
     "name": "#%%\n"
    }
   },
   "outputs": [],
   "source": [
    "# # Compares two lists of training parameters and records the results for future aggregation.\n",
    "# def compare(gold, pred, stats):\n",
    "#     for start, (lbl, end) in gold.items():\n",
    "#         stats['total']['gold'] += 1\n",
    "#         stats[lbl]['gold'] += 1\n",
    "#     for start, (lbl, end) in pred.items():\n",
    "#         stats['total']['pred'] += 1\n",
    "#         stats[lbl]['pred'] += 1\n",
    "#     for start, (glbl, gend) in gold.items():\n",
    "#         if start in pred:\n",
    "#             plbl, pend = pred[start]\n",
    "#             if glbl == plbl and gend == pend:\n",
    "#                 stats['total']['corr'] += 1\n",
    "#                 stats[glbl]['corr'] += 1\n"
   ]
  },
  {
   "cell_type": "code",
   "execution_count": null,
   "outputs": [],
   "source": [
    "class PositionalEncoding(nn.Module):\n",
    "\n",
    "    def __init__(self, d_model: int, dropout: float = 0.1, max_len: int = 5000):\n",
    "        super().__init__()\n",
    "        self.dropout = nn.Dropout(p=dropout)\n",
    "\n",
    "        position = torch.arange(max_len).unsqueeze(1)\n",
    "        div_term = torch.exp(torch.arange(0, d_model, 2) * (-math.log(10000.0) / d_model))\n",
    "        pe = torch.zeros(max_len, 1, d_model)\n",
    "        pe[:, 0, 0::2] = torch.sin(position * div_term)\n",
    "        pe[:, 0, 1::2] = torch.cos(position * div_term)\n",
    "        self.register_buffer('pe', pe)\n",
    "\n",
    "    def forward(self, x: Tensor) -> Tensor:\n",
    "        \"\"\"\n",
    "        Args:\n",
    "            x: Tensor, shape [seq_len, batch_size, embedding_dim]\n",
    "        \"\"\"\n",
    "        x = x + self.pe[:x.size(0)]\n",
    "        return self.dropout(x)"
   ],
   "metadata": {
    "collapsed": false,
    "pycharm": {
     "name": "#%%\n"
    }
   }
  },
  {
   "cell_type": "code",
   "execution_count": null,
   "outputs": [],
   "source": [
    "class TransformerModel(nn.Module):\n",
    "\n",
    "    def __init__(self, ntoken: int, d_model: int, nhead: int, d_hid: int,\n",
    "                 nlayers: int, dropout: float = 0.5):\n",
    "        super().__init__()\n",
    "        self.model_type = 'Transformer'\n",
    "        self.pos_encoder = PositionalEncoding(d_model, dropout)\n",
    "        # Multi-head attention mechanism included already in TransformerEncoderLayer\n",
    "        encoder_layers = TransformerEncoderLayer(d_model, nhead, d_hid, dropout)\n",
    "        self.transformer_encoder = TransformerEncoder(encoder_layers, nlayers)\n",
    "        self.encoder = nn.Embedding(ntoken, d_model)\n",
    "        self.d_model = d_model\n",
    "        self.decoder = nn.Linear(d_model, ntoken)\n",
    "\n",
    "        self.init_weights()\n",
    "\n",
    "    def init_weights(self) -> None:\n",
    "        initrange = 0.1\n",
    "        self.encoder.weight.data.uniform_(-initrange, initrange)\n",
    "        self.decoder.bias.data.zero_()\n",
    "        self.decoder.weight.data.uniform_(-initrange, initrange)\n",
    "\n",
    "    def forward(self, src: Tensor, src_mask: Tensor) -> Tensor:\n",
    "        \"\"\"\n",
    "        Args:\n",
    "            src: Tensor, shape [seq_len, batch_size]\n",
    "            src_mask: Tensor, shape [seq_len, seq_len]\n",
    "\n",
    "        Returns:\n",
    "            output Tensor of shape [seq_len, batch_size, ntoken]\n",
    "        \"\"\"\n",
    "        src = self.encoder(src) * math.sqrt(self.d_model)\n",
    "        src = self.pos_encoder(src)\n",
    "        output = self.transformer_encoder(src, src_mask)\n",
    "        output = self.decoder(output)\n",
    "        return output\n",
    "\n",
    "\n",
    "def generate_square_subsequent_mask(sz: int) -> Tensor:\n",
    "    \"\"\"Generates an upper-triangular matrix of -inf, with zeros on diag.\"\"\"\n",
    "    return torch.triu(torch.ones(sz, sz) * float('-inf'), diagonal=1)"
   ],
   "metadata": {
    "collapsed": false,
    "pycharm": {
     "name": "#%%\n"
    }
   }
  },
  {
   "cell_type": "code",
   "execution_count": 75,
   "metadata": {
    "pycharm": {
     "name": "#%%\n"
    }
   },
   "outputs": [],
   "source": [
    "class RNNTagger(nn.Module):\n",
    "\n",
    "    def __init__(self, text_field, label_field, emb_dim, rnn_size, update_pretrained=False):\n",
    "        super().__init__()\n",
    "\n",
    "        voc_size = len(text_field.vocab)\n",
    "        self.n_labels = label_field#len(label_field.vocab)\n",
    "        #\n",
    "        # Embedding layer. If we're using pre-trained embeddings, copy them\n",
    "        # into our embedding module.\n",
    "        self.embedding = nn.Embedding(voc_size, emb_dim)\n",
    "        if text_field.vocab.vectors is not None:\n",
    "            self.embedding.weight = torch.nn.Parameter(text_field.vocab.vectors,\n",
    "                                                       requires_grad=update_pretrained)\n",
    "\n",
    "        # RNN layer. We're using a bidirectional GRU with one layer.\n",
    "        self.rnn = nn.GRU(input_size=emb_dim, hidden_size=rnn_size,\n",
    "                          bidirectional=True, num_layers=1)\n",
    "\n",
    "        # Output layer. As in the example last week, the input will be two times\n",
    "        # the RNN size since we are using a bidirectional RNN.\n",
    "        self.top_layer = nn.Linear(2*rnn_size, self.n_labels)\n",
    "\n",
    "        # To deal with the padding positions later, we need to know the\n",
    "        # encoding of the padding dummy word and the corresponding dummy output tag.\n",
    "        self.pad_word_id = text_field.vocab.stoi[text_field.pad_token]\n",
    "        # self.pad_label_id = label_field.vocab.stoi[label_field.pad_token]\n",
    "\n",
    "        # Loss function that we will use during training.\n",
    "        self.loss = torch.nn.CrossEntropyLoss(reduction='sum')\n",
    "\n",
    "    def compute_outputs(self, sentences):\n",
    "        # The words in the documents are encoded as integers. The shape of the documents\n",
    "        # tensor is (max_len, n_docs), where n_docs is the number of documents in this batch,\n",
    "        # and max_len is the maximal length of a document in the batch.\n",
    "\n",
    "        # First look up the embeddings for all the words in the documents.\n",
    "        # The shape is now (max_len, n_sentences, emb_dim).\n",
    "        embedded = self.embedding(sentences)\n",
    "\n",
    "        # Apply the RNN.\n",
    "        # The shape of the RNN output tensor is (max_len, n_sentences, 2*rnn_size).\n",
    "        rnn_out, _ = self.rnn(embedded)\n",
    "\n",
    "        # Apply the linear output layer.\n",
    "        # The shape of the output tensor is (max_len, n_sentences, n_labels).\n",
    "        out = self.top_layer(rnn_out)\n",
    "\n",
    "        # Find the positions where the token is a dummy padding token.\n",
    "        pad_mask = (sentences == self.pad_word_id).float()\n",
    "\n",
    "        # For these positions, we add some large number in the column corresponding\n",
    "        # to the dummy padding label.\n",
    "        # out[:, :, self.pad_label_id] += pad_mask*10000\n",
    "\n",
    "        return out\n",
    "\n",
    "    def forward(self, sentences, labels):\n",
    "        # As discussed above, this method first computes the predictions, and then\n",
    "        # the loss function.\n",
    "\n",
    "        # Compute the outputs. The shape is (max_len, n_sentences, n_labels).\n",
    "        scores = self.compute_outputs(sentences)\n",
    "\n",
    "        # Flatten the outputs and the gold-standard labels, to compute the loss.\n",
    "        # The input to this loss needs to be one 2-dimensional and one 1-dimensional tensor.\n",
    "        scores = scores.view(-1, self.n_labels)\n",
    "        labels = labels.view(-1)\n",
    "        return self.loss(scores, labels)\n",
    "\n",
    "    def predict(self, sentences):\n",
    "        # Compute the outputs from the linear units.\n",
    "        scores = self.compute_outputs(sentences)\n",
    "\n",
    "        # Select the top-scoring labels. The shape is now (max_len, n_sentences).\n",
    "        predicted = scores.argmax(dim=2)\n",
    "\n",
    "        # We transpose the prediction to (n_sentences, max_len), and convert it\n",
    "        # to a NumPy matrix.\n",
    "        return predicted.t().cpu().numpy()\n"
   ]
  },
  {
   "cell_type": "code",
   "execution_count": 76,
   "metadata": {
    "pycharm": {
     "name": "#%%\n"
    }
   },
   "outputs": [
    {
     "name": "stdout",
     "output_type": "stream",
     "text": [
      "We are using pre-trained word embeddings.\n"
     ]
    },
    {
     "ename": "TypeError",
     "evalue": "empty() received an invalid combination of arguments - got (tuple, dtype=NoneType, device=NoneType), but expected one of:\n * (tuple of ints size, *, tuple of names names, torch.memory_format memory_format, torch.dtype dtype, torch.layout layout, torch.device device, bool pin_memory, bool requires_grad)\n * (tuple of ints size, *, torch.memory_format memory_format, Tensor out, torch.dtype dtype, torch.layout layout, torch.device device, bool pin_memory, bool requires_grad)\n",
     "output_type": "error",
     "traceback": [
      "\u001B[1;31m---------------------------------------------------------------------------\u001B[0m",
      "\u001B[1;31mTypeError\u001B[0m                                 Traceback (most recent call last)",
      "\u001B[1;32m~\\AppData\\Local\\Temp/ipykernel_9888/2873369153.py\u001B[0m in \u001B[0;36m<module>\u001B[1;34m\u001B[0m\n\u001B[0;32m    167\u001B[0m \u001B[1;33m\u001B[0m\u001B[0m\n\u001B[0;32m    168\u001B[0m \u001B[0mtagger\u001B[0m \u001B[1;33m=\u001B[0m \u001B[0mTagger\u001B[0m\u001B[1;33m(\u001B[0m\u001B[0mlower\u001B[0m\u001B[1;33m=\u001B[0m\u001B[1;32mFalse\u001B[0m\u001B[1;33m)\u001B[0m\u001B[1;33m\u001B[0m\u001B[1;33m\u001B[0m\u001B[0m\n\u001B[1;32m--> 169\u001B[1;33m \u001B[0mtagger\u001B[0m\u001B[1;33m.\u001B[0m\u001B[0mtrain\u001B[0m\u001B[1;33m(\u001B[0m\u001B[1;33m)\u001B[0m\u001B[1;33m\u001B[0m\u001B[1;33m\u001B[0m\u001B[0m\n\u001B[0m\u001B[0;32m    170\u001B[0m \u001B[1;33m\u001B[0m\u001B[0m\n",
      "\u001B[1;32m~\\AppData\\Local\\Temp/ipykernel_9888/2873369153.py\u001B[0m in \u001B[0;36mtrain\u001B[1;34m(self)\u001B[0m\n\u001B[0;32m     71\u001B[0m \u001B[1;33m\u001B[0m\u001B[0m\n\u001B[0;32m     72\u001B[0m         \u001B[1;31m# Create one of the models defined above.\u001B[0m\u001B[1;33m\u001B[0m\u001B[1;33m\u001B[0m\u001B[1;33m\u001B[0m\u001B[0m\n\u001B[1;32m---> 73\u001B[1;33m         \u001B[0mself\u001B[0m\u001B[1;33m.\u001B[0m\u001B[0mmodel\u001B[0m \u001B[1;33m=\u001B[0m \u001B[0mRNNTagger\u001B[0m\u001B[1;33m(\u001B[0m\u001B[0mself\u001B[0m\u001B[1;33m.\u001B[0m\u001B[0mTEXT\u001B[0m\u001B[1;33m,\u001B[0m \u001B[0mself\u001B[0m\u001B[1;33m.\u001B[0m\u001B[0mLABEL\u001B[0m\u001B[1;33m,\u001B[0m \u001B[0memb_dim\u001B[0m\u001B[1;33m=\u001B[0m\u001B[1;36m300\u001B[0m\u001B[1;33m,\u001B[0m \u001B[0mrnn_size\u001B[0m\u001B[1;33m=\u001B[0m\u001B[1;36m128\u001B[0m\u001B[1;33m,\u001B[0m \u001B[0mupdate_pretrained\u001B[0m\u001B[1;33m=\u001B[0m\u001B[1;32mFalse\u001B[0m\u001B[1;33m)\u001B[0m\u001B[1;33m\u001B[0m\u001B[1;33m\u001B[0m\u001B[0m\n\u001B[0m\u001B[0;32m     74\u001B[0m         \u001B[1;31m# self.model = RNNCRFTagger(self.TEXT, self.LABEL, emb_dim=300, rnn_size=128, update_pretrained=False)\u001B[0m\u001B[1;33m\u001B[0m\u001B[1;33m\u001B[0m\u001B[1;33m\u001B[0m\u001B[0m\n\u001B[0;32m     75\u001B[0m \u001B[1;33m\u001B[0m\u001B[0m\n",
      "\u001B[1;32m~\\AppData\\Local\\Temp/ipykernel_9888/1556287945.py\u001B[0m in \u001B[0;36m__init__\u001B[1;34m(self, text_field, label_field, emb_dim, rnn_size, update_pretrained)\u001B[0m\n\u001B[0;32m     20\u001B[0m         \u001B[1;31m# Output layer. As in the example last week, the input will be two times\u001B[0m\u001B[1;33m\u001B[0m\u001B[1;33m\u001B[0m\u001B[1;33m\u001B[0m\u001B[0m\n\u001B[0;32m     21\u001B[0m         \u001B[1;31m# the RNN size since we are using a bidirectional RNN.\u001B[0m\u001B[1;33m\u001B[0m\u001B[1;33m\u001B[0m\u001B[1;33m\u001B[0m\u001B[0m\n\u001B[1;32m---> 22\u001B[1;33m         \u001B[0mself\u001B[0m\u001B[1;33m.\u001B[0m\u001B[0mtop_layer\u001B[0m \u001B[1;33m=\u001B[0m \u001B[0mnn\u001B[0m\u001B[1;33m.\u001B[0m\u001B[0mLinear\u001B[0m\u001B[1;33m(\u001B[0m\u001B[1;36m2\u001B[0m\u001B[1;33m*\u001B[0m\u001B[0mrnn_size\u001B[0m\u001B[1;33m,\u001B[0m \u001B[0mself\u001B[0m\u001B[1;33m.\u001B[0m\u001B[0mn_labels\u001B[0m\u001B[1;33m)\u001B[0m\u001B[1;33m\u001B[0m\u001B[1;33m\u001B[0m\u001B[0m\n\u001B[0m\u001B[0;32m     23\u001B[0m \u001B[1;33m\u001B[0m\u001B[0m\n\u001B[0;32m     24\u001B[0m         \u001B[1;31m# To deal with the padding positions later, we need to know the\u001B[0m\u001B[1;33m\u001B[0m\u001B[1;33m\u001B[0m\u001B[1;33m\u001B[0m\u001B[0m\n",
      "\u001B[1;32mc:\\users\\hp\\anaconda3\\envs\\ball4wsd\\lib\\site-packages\\torch\\nn\\modules\\linear.py\u001B[0m in \u001B[0;36m__init__\u001B[1;34m(self, in_features, out_features, bias, device, dtype)\u001B[0m\n\u001B[0;32m     83\u001B[0m         \u001B[0mself\u001B[0m\u001B[1;33m.\u001B[0m\u001B[0min_features\u001B[0m \u001B[1;33m=\u001B[0m \u001B[0min_features\u001B[0m\u001B[1;33m\u001B[0m\u001B[1;33m\u001B[0m\u001B[0m\n\u001B[0;32m     84\u001B[0m         \u001B[0mself\u001B[0m\u001B[1;33m.\u001B[0m\u001B[0mout_features\u001B[0m \u001B[1;33m=\u001B[0m \u001B[0mout_features\u001B[0m\u001B[1;33m\u001B[0m\u001B[1;33m\u001B[0m\u001B[0m\n\u001B[1;32m---> 85\u001B[1;33m         \u001B[0mself\u001B[0m\u001B[1;33m.\u001B[0m\u001B[0mweight\u001B[0m \u001B[1;33m=\u001B[0m \u001B[0mParameter\u001B[0m\u001B[1;33m(\u001B[0m\u001B[0mtorch\u001B[0m\u001B[1;33m.\u001B[0m\u001B[0mempty\u001B[0m\u001B[1;33m(\u001B[0m\u001B[1;33m(\u001B[0m\u001B[0mout_features\u001B[0m\u001B[1;33m,\u001B[0m \u001B[0min_features\u001B[0m\u001B[1;33m)\u001B[0m\u001B[1;33m,\u001B[0m \u001B[1;33m**\u001B[0m\u001B[0mfactory_kwargs\u001B[0m\u001B[1;33m)\u001B[0m\u001B[1;33m)\u001B[0m\u001B[1;33m\u001B[0m\u001B[1;33m\u001B[0m\u001B[0m\n\u001B[0m\u001B[0;32m     86\u001B[0m         \u001B[1;32mif\u001B[0m \u001B[0mbias\u001B[0m\u001B[1;33m:\u001B[0m\u001B[1;33m\u001B[0m\u001B[1;33m\u001B[0m\u001B[0m\n\u001B[0;32m     87\u001B[0m             \u001B[0mself\u001B[0m\u001B[1;33m.\u001B[0m\u001B[0mbias\u001B[0m \u001B[1;33m=\u001B[0m \u001B[0mParameter\u001B[0m\u001B[1;33m(\u001B[0m\u001B[0mtorch\u001B[0m\u001B[1;33m.\u001B[0m\u001B[0mempty\u001B[0m\u001B[1;33m(\u001B[0m\u001B[0mout_features\u001B[0m\u001B[1;33m,\u001B[0m \u001B[1;33m**\u001B[0m\u001B[0mfactory_kwargs\u001B[0m\u001B[1;33m)\u001B[0m\u001B[1;33m)\u001B[0m\u001B[1;33m\u001B[0m\u001B[1;33m\u001B[0m\u001B[0m\n",
      "\u001B[1;31mTypeError\u001B[0m: empty() received an invalid combination of arguments - got (tuple, dtype=NoneType, device=NoneType), but expected one of:\n * (tuple of ints size, *, tuple of names names, torch.memory_format memory_format, torch.dtype dtype, torch.layout layout, torch.device device, bool pin_memory, bool requires_grad)\n * (tuple of ints size, *, torch.memory_format memory_format, Tensor out, torch.dtype dtype, torch.layout layout, torch.device device, bool pin_memory, bool requires_grad)\n"
     ]
    }
   ],
   "source": [
    "import torch\n",
    "class Tagger:\n",
    "\n",
    "    def __init__(self, lower):\n",
    "        self.TEXT = data.Field(init_token='<bos>', eos_token='<eos>', sequential=True, lower=lower)\n",
    "        # I changed sequential = True to false, because my data is not sequential\n",
    "        # self.LABEL = data.Field(init_token='<bos>', eos_token='<eos>', sequential=True, unk_token=None)\n",
    "        self.LABEL = data.Field(is_target=True, sequential=False, unk_token=None, dtype=list)\n",
    "        # data.Field(init_token='<bos>', eos_token='<eos>',\n",
    "        #     sequential=False, use_vocab=False)\n",
    "        self.fields = [('text', self.TEXT), ('label', self.LABEL)]\n",
    "        # self.device = 'cuda'\n",
    "        self.device = 'cpu'\n",
    "\n",
    "    def tag(self, sentences):\n",
    "        # This method applies the trained model to a list of sentences.\n",
    "\n",
    "        # First, create a torchtext Dataset containing the sentences to tag.\n",
    "        examples = []\n",
    "        for sen in sentences:\n",
    "            labels = ['?']*len(sen) # placeholder\n",
    "            examples.append(data.Example.fromlist([sen, labels], self.fields))\n",
    "        dataset = data.Dataset(examples, self.fields)\n",
    "\n",
    "        iterator = data.Iterator(\n",
    "            dataset,\n",
    "            device=self.device,\n",
    "            batch_size=64,\n",
    "            repeat=False,\n",
    "            train=False,\n",
    "            sort=False)\n",
    "\n",
    "        # Apply the trained model to all batches.\n",
    "        out = []\n",
    "        self.model.eval()\n",
    "        with torch.no_grad():\n",
    "            for batch in iterator:\n",
    "                # Call the model's predict method. This returns a list of NumPy matrix\n",
    "                # containing the integer-encoded tags for each sentence.\n",
    "                predicted = self.model.predict(batch.text)\n",
    "\n",
    "                # # Convert the integer-encoded tags to tag strings.\n",
    "                # for tokens, pred_sen in zip(sentences, predicted):\n",
    "                #     out.append([self.LABEL.vocab.itos[pred_id] for _, pred_id in zip(tokens, pred_sen[1:])])\n",
    "        return out\n",
    "\n",
    "    def train(self):\n",
    "        # Read training and validation data according to the predefined split.\n",
    "        train_examples = read_data(\"../data/test_transformer/train.csv\", self.fields) #'data/eng.train.iob', self.fields)\n",
    "        valid_examples = read_data(\"../data/test_transformer/validate.csv\", self.fields) #'data/eng.valid.iob', self.fields)\n",
    "\n",
    "        # Count the number of words and sentences.\n",
    "        n_tokens_train = 0\n",
    "        n_sentences_train = 0\n",
    "        for ex in train_examples:\n",
    "            n_tokens_train += len(ex.text) + 2\n",
    "            n_sentences_train += 1\n",
    "        n_tokens_valid = 0\n",
    "        for ex in valid_examples:\n",
    "            n_tokens_valid += len(ex.text)\n",
    "\n",
    "        # Load the pre-trained embeddings that come with the torchtext library.\n",
    "        use_pretrained = True\n",
    "        if use_pretrained:\n",
    "            print('We are using pre-trained word embeddings.')\n",
    "            self.TEXT.build_vocab(train_examples, vectors=\"glove.840B.300d\")\n",
    "        else:\n",
    "            print('We are training word embeddings from scratch.')\n",
    "            self.TEXT.build_vocab(train_examples, max_size=5000)\n",
    "        # self.LABEL.build_vocab(train_examples)\n",
    "\n",
    "        # Create one of the models defined above.\n",
    "        self.model = RNNTagger(self.TEXT, self.LABEL, emb_dim=300, rnn_size=128, update_pretrained=False)\n",
    "        # self.model = RNNCRFTagger(self.TEXT, self.LABEL, emb_dim=300, rnn_size=128, update_pretrained=False)\n",
    "\n",
    "        self.model.to(self.device)\n",
    "\n",
    "        batch_size = 5 #1024\n",
    "        n_batches = np.ceil(n_sentences_train / batch_size)\n",
    "\n",
    "        mean_n_tokens = n_tokens_train / n_batches\n",
    "\n",
    "        train_iterator = data.BucketIterator(\n",
    "            train_examples,\n",
    "            device=self.device,\n",
    "            batch_size=batch_size,\n",
    "            sort_key=lambda x: len(x.text),\n",
    "            repeat=False,\n",
    "            train=True,\n",
    "            sort=True)\n",
    "\n",
    "        valid_iterator = data.BucketIterator(\n",
    "            valid_examples,\n",
    "            device=self.device,\n",
    "            batch_size= 2, #64,\n",
    "            sort_key=lambda x: len(x.text),\n",
    "            repeat=False,\n",
    "            train=False,\n",
    "            sort=True)\n",
    "\n",
    "        train_batches = list(train_iterator)\n",
    "        valid_batches = list(valid_iterator)\n",
    "\n",
    "        optimizer = torch.optim.Adam(self.model.parameters(), lr=0.01, weight_decay=1e-5)\n",
    "\n",
    "        # n_labels = len(self.LABEL.vocab)\n",
    "\n",
    "        history = defaultdict(list)\n",
    "\n",
    "        n_epochs = 3 #25\n",
    "\n",
    "        for i in range(1, n_epochs + 1):\n",
    "\n",
    "            t0 = time.time()\n",
    "\n",
    "            loss_sum = 0\n",
    "\n",
    "            self.model.train()\n",
    "            for batch in train_batches:\n",
    "\n",
    "                # Compute the output and loss.\n",
    "                loss = self.model(batch.text, batch.label) / mean_n_tokens\n",
    "\n",
    "                optimizer.zero_grad()\n",
    "                loss.backward()\n",
    "                optimizer.step()\n",
    "                loss_sum += loss.item()\n",
    "\n",
    "            train_loss = loss_sum / n_batches\n",
    "            history['train_loss'].append(train_loss)\n",
    "\n",
    "            # Evaluate on the validation set.\n",
    "            if i % 1 == 0:\n",
    "                stats = defaultdict(Counter)\n",
    "\n",
    "                self.model.eval()\n",
    "                with torch.no_grad():\n",
    "                    for batch in valid_batches:\n",
    "                        # Predict the model's output on a batch.\n",
    "                        predicted = self.model.predict(batch.text)\n",
    "                        print(\"predicted := \", predicted)\n",
    "                        # Update the evaluation statistics.\n",
    "                        # evaluate_iob(predicted, batch.label, self.LABEL, stats)\n",
    "\n",
    "                # # Compute the overall F-score for the validation set.\n",
    "                # _, _, val_f1 = prf(stats['total'])\n",
    "                #\n",
    "                # history['val_f1'].append(val_f1)\n",
    "                #\n",
    "                # t1 = time.time()\n",
    "                # print(f'Epoch {i}: train loss = {train_loss:.4f}, val f1: {val_f1:.4f}, time = {t1-t0:.4f}')\n",
    "\n",
    "        # # After the final evaluation, we print more detailed evaluation statistics, including\n",
    "        # # precision, recall, and F-scores for the different types of named entities.\n",
    "        # print()\n",
    "        # print('Final evaluation on the validation set:')\n",
    "        # p, r, f1 = prf(stats['total'])\n",
    "        # print(f'Overall: P = {p:.4f}, R = {r:.4f}, F1 = {f1:.4f}')\n",
    "        # for label in stats:\n",
    "        #     if label != 'total':\n",
    "        #         p, r, f1 = prf(stats[label])\n",
    "        #         print(f'{label:4s}: P = {p:.4f}, R = {r:.4f}, F1 = {f1:.4f}')\n",
    "        #\n",
    "        # plt.plot(history['train_loss'])\n",
    "        # plt.plot(history['val_f1'])\n",
    "        # plt.legend(['training loss', 'validation F-score'])\n",
    "\n",
    "tagger = Tagger(lower=False)\n",
    "tagger.train()"
   ]
  },
  {
   "cell_type": "code",
   "execution_count": 25,
   "metadata": {
    "pycharm": {
     "name": "#%%\n"
    }
   },
   "outputs": [],
   "source": [
    "# tagger.train()"
   ]
  },
  {
   "cell_type": "code",
   "execution_count": null,
   "outputs": [],
   "source": [],
   "metadata": {
    "collapsed": false,
    "pycharm": {
     "name": "#%%\n"
    }
   }
  }
 ],
 "metadata": {
  "kernelspec": {
   "display_name": "Python 3",
   "language": "python",
   "name": "python3"
  },
  "language_info": {
   "codemirror_mode": {
    "name": "ipython",
    "version": 3
   },
   "file_extension": ".py",
   "mimetype": "text/x-python",
   "name": "python",
   "nbconvert_exporter": "python",
   "pygments_lexer": "ipython3",
   "version": "3.7.4"
  }
 },
 "nbformat": 4,
 "nbformat_minor": 1
}